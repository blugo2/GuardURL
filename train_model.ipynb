{
 "cells": [
  {
   "cell_type": "code",
   "execution_count": 2,
   "metadata": {},
   "outputs": [
    {
     "name": "stderr",
     "output_type": "stream",
     "text": [
      "C:\\Users\\brend\\AppData\\Local\\Packages\\PythonSoftwareFoundation.Python.3.12_qbz5n2kfra8p0\\LocalCache\\local-packages\\Python312\\site-packages\\sklearn\\base.py:1473: DataConversionWarning: A column-vector y was passed when a 1d array was expected. Please change the shape of y to (n_samples,), for example using ravel().\n",
      "  return fit_method(estimator, *args, **kwargs)\n"
     ]
    },
    {
     "name": "stdout",
     "output_type": "stream",
     "text": [
      "Evaluation on UCI Dataset:\n",
      "[[1241  187]\n",
      " [ 130 1759]]\n",
      "              precision    recall  f1-score   support\n",
      "\n",
      "          -1       0.91      0.87      0.89      1428\n",
      "           1       0.90      0.93      0.92      1889\n",
      "\n",
      "    accuracy                           0.90      3317\n",
      "   macro avg       0.90      0.90      0.90      3317\n",
      "weighted avg       0.90      0.90      0.90      3317\n",
      "\n",
      "ROC-AUC Score: 0.9473509096597877\n"
     ]
    },
    {
     "data": {
      "text/plain": [
       "['scaler.pkl']"
      ]
     },
     "execution_count": 2,
     "metadata": {},
     "output_type": "execute_result"
    }
   ],
   "source": [
    "from ucimlrepo import fetch_ucirepo\n",
    "from sklearn.model_selection import train_test_split\n",
    "from sklearn.ensemble import RandomForestClassifier\n",
    "from sklearn.preprocessing import StandardScaler\n",
    "from sklearn.metrics import classification_report, confusion_matrix, roc_auc_score\n",
    "import pandas as pd\n",
    "import numpy as np\n",
    "import joblib\n",
    "\n",
    "# Fetch UCI dataset\n",
    "phishing_websites = fetch_ucirepo(id=327)\n",
    "\n",
    "# Data and target\n",
    "X = phishing_websites.data.features\n",
    "y = phishing_websites.data.targets\n",
    "\n",
    "# Features available in the UCI dataset\n",
    "uci_features = [\n",
    "    'having_ip_address', 'url_length', 'shortining_service',\n",
    "    'having_at_symbol', 'double_slash_redirecting', 'prefix_suffix',\n",
    "    'sslfinal_state', 'domain_registration_length', 'favicon', 'port',\n",
    "    'https_token'\n",
    "]\n",
    "\n",
    "# Extract only the features we will use for compatibility\n",
    "X_uci = X[uci_features]\n",
    "\n",
    "# Split the data into training and testing sets\n",
    "X_train, X_test, y_train, y_test = train_test_split(X_uci, y, test_size=0.3, random_state=42)\n",
    "\n",
    "# Standardize the features\n",
    "scaler = StandardScaler()\n",
    "X_train_scaled = scaler.fit_transform(X_train)\n",
    "X_test_scaled = scaler.transform(X_test)\n",
    "\n",
    "# Train a Random Forest model on the common features\n",
    "clf = RandomForestClassifier(random_state=42, class_weight='balanced')\n",
    "clf.fit(X_train_scaled, y_train)\n",
    "\n",
    "# Evaluate the model on the UCI dataset\n",
    "y_pred = clf.predict(X_test_scaled)\n",
    "print(\"Evaluation on UCI Dataset:\")\n",
    "print(confusion_matrix(y_test, y_pred))\n",
    "print(classification_report(y_test, y_pred))\n",
    "print(\"ROC-AUC Score:\", roc_auc_score(y_test, clf.predict_proba(X_test_scaled)[:, 1]))\n",
    "\n",
    "# Save the trained model and scaler\n",
    "joblib.dump(clf, 'random_forest_model.pkl')\n",
    "joblib.dump(scaler, 'scaler.pkl')\n"
   ]
  }
 ],
 "metadata": {
  "kernelspec": {
   "display_name": "Python 3",
   "language": "python",
   "name": "python3"
  },
  "language_info": {
   "codemirror_mode": {
    "name": "ipython",
    "version": 3
   },
   "file_extension": ".py",
   "mimetype": "text/x-python",
   "name": "python",
   "nbconvert_exporter": "python",
   "pygments_lexer": "ipython3",
   "version": "3.12.7"
  }
 },
 "nbformat": 4,
 "nbformat_minor": 2
}
