{
 "cells": [
  {
   "cell_type": "code",
   "execution_count": 5,
   "metadata": {},
   "outputs": [
    {
     "name": "stdout",
     "output_type": "stream",
     "text": [
      "\n",
      "URL Classification Results:\n",
      "Entered URL: https://bis-usonic.eu/components/com_cmc/models/iui/DHLAUTO/dhl.php?rand=13InboxLightaspxn.1774256418&amp;fid.4.1252899642&amp;fid=1&amp;fav.1&amp;rand.13InboxLight.aspxn.1774256418&amp;fid.1252899642&amp;fid.1&amp;fav.1&amp;email=&amp;.rand=13InboxLight.aspx?n=1774256418&amp;fid=4#n=1252899642&amp;fid=1&amp;fav=1\n",
      "Predicted Class: Benign\n",
      "Probability Scores:\n",
      "  Malicious: 0.1300\n",
      "  Benign: 0.8700\n"
     ]
    }
   ],
   "source": [
    "import pandas as pd\n",
    "import numpy as np\n",
    "import re\n",
    "import joblib\n",
    "\n",
    "# Load the trained model and scaler\n",
    "clf = joblib.load('random_forest_model.pkl')\n",
    "scaler = joblib.load('scaler.pkl')\n",
    "\n",
    "# Define descriptive class names\n",
    "class_names = [\"Malicious\", \"Benign\"]\n",
    "\n",
    "# Function to extract features from a single URL\n",
    "def extract_features_from_url(url):\n",
    "    \"\"\"Extract features for a single URL.\"\"\"\n",
    "    features = {\n",
    "        'having_ip_address': int(bool(re.search(r'\\d+\\.\\d+\\.\\d+\\.\\d+', url))),\n",
    "        'url_length': len(url),\n",
    "        'shortining_service': 0,  # Placeholder (e.g., use an external service if needed)\n",
    "        'having_at_symbol': int('@' in url),\n",
    "        'double_slash_redirecting': 0,  # Placeholder\n",
    "        'prefix_suffix': int('-' in url),\n",
    "        'sslfinal_state': 1,  # Assume SSL is valid\n",
    "        'domain_registration_length': 1,  # Placeholder\n",
    "        'favicon': 1,  # Placeholder\n",
    "        'port': 0,  # Placeholder\n",
    "        'https_token': int(url.startswith('https'))\n",
    "    }\n",
    "    return pd.DataFrame([features])\n",
    "\n",
    "# Main function for URL classification\n",
    "def classify_url(url):\n",
    "    \"\"\"Classify a URL using the trained model.\"\"\"\n",
    "    # Extract features from the URL\n",
    "    url_features = extract_features_from_url(url)\n",
    "\n",
    "    # Scale features using the pre-fitted scaler\n",
    "    url_features_scaled = scaler.transform(url_features)\n",
    "\n",
    "    # Predict the class and probabilities\n",
    "    prediction = clf.predict(url_features_scaled)\n",
    "    probabilities = clf.predict_proba(url_features_scaled)\n",
    "\n",
    "    # Map prediction to class name\n",
    "    predicted_class = class_names[prediction[0]]\n",
    "\n",
    "    # Return classification results\n",
    "    return {\n",
    "        \"url\": url,\n",
    "        \"predicted_class\": predicted_class,\n",
    "        \"probabilities\": {\n",
    "            class_names[0]: probabilities[0][0],\n",
    "            class_names[1]: probabilities[0][1]\n",
    "        }\n",
    "    }\n",
    "\n",
    "if __name__ == \"__main__\":\n",
    "    # Accept URL input from the user\n",
    "    user_url = input(\"Enter a URL to classify: \")\n",
    "    results = classify_url(user_url)\n",
    "\n",
    "    # Print results\n",
    "    print(\"\\nURL Classification Results:\")\n",
    "    print(f\"Entered URL: {results['url']}\")\n",
    "    print(f\"Predicted Class: {results['predicted_class']}\")\n",
    "    print(\"Probability Scores:\")\n",
    "    for class_name, score in results['probabilities'].items():\n",
    "        print(f\"  {class_name}: {score:.4f}\")\n"
   ]
  }
 ],
 "metadata": {
  "kernelspec": {
   "display_name": "Python 3",
   "language": "python",
   "name": "python3"
  },
  "language_info": {
   "codemirror_mode": {
    "name": "ipython",
    "version": 3
   },
   "file_extension": ".py",
   "mimetype": "text/x-python",
   "name": "python",
   "nbconvert_exporter": "python",
   "pygments_lexer": "ipython3",
   "version": "3.12.7"
  }
 },
 "nbformat": 4,
 "nbformat_minor": 2
}
